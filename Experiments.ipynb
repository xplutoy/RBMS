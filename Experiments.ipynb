{
 "cells": [
  {
   "cell_type": "markdown",
   "metadata": {},
   "source": [
    "# 受限玻尔兹曼机实验\n",
    "## 1. BernoulliRBM"
   ]
  },
  {
   "cell_type": "markdown",
   "metadata": {},
   "source": [
    "加载之前预训练好的模型， 参数与下面的设置一样"
   ]
  },
  {
   "cell_type": "code",
   "execution_count": 6,
   "metadata": {},
   "outputs": [],
   "source": [
    "from rbms import BernoulliRBM\n",
    "from IPython.display import Image\n",
    "import imageio\n",
    "from utils import *"
   ]
  },
  {
   "cell_type": "code",
   "execution_count": 7,
   "metadata": {},
   "outputs": [],
   "source": [
    "brbm = BernoulliRBM(\n",
    "    model_path='./logs/brbm_pcd/',\n",
    "    pcd=True,\n",
    "    lr_start=2,\n",
    "    sparsity_target=0.1,\n",
    "    lr_stop=8,\n",
    "    n_gibbs_steps=2,\n",
    "    max_epoch=10,\n",
    "    sample_h_states=False,\n",
    "    sample_v_states=True,\n",
    "    batch_size=32,\n",
    "    h_sz=256,\n",
    "    l2=0.01)"
   ]
  },
  {
   "cell_type": "markdown",
   "metadata": {},
   "source": [
    "实验1： 分别从各时间段采样，查看Markov Chain迁移的情况，图片生成的情况。\n",
    "1. 用随机做h0的初始化。\n",
    "2. 用测试样本作为v0的初始化。\n",
    "\n",
    "每个20个gibbs_step生成一张图片，把生成的图片转化成gif动态图，方便查看和展示。"
   ]
  },
  {
   "cell_type": "markdown",
   "metadata": {},
   "source": [
    "用随机做h0的初始化的实验结果："
   ]
  },
  {
   "cell_type": "code",
   "execution_count": 10,
   "metadata": {},
   "outputs": [
    {
     "data": {
      "text/html": [
       "<img src=\"./images/sto_pcd.gif\"/>"
      ],
      "text/plain": [
       "<IPython.core.display.Image object>"
      ]
     },
     "execution_count": 10,
     "metadata": {},
     "output_type": "execute_result"
    }
   ],
   "source": [
    "Image(url='./images/sto_pcd.gif')"
   ]
  },
  {
   "cell_type": "markdown",
   "metadata": {},
   "source": [
    "用测试样本作为v0的初始化的实验结果："
   ]
  },
  {
   "cell_type": "code",
   "execution_count": 11,
   "metadata": {},
   "outputs": [
    {
     "data": {
      "text/html": [
       "<img src=\"./images/val_pcd.gif\"/>"
      ],
      "text/plain": [
       "<IPython.core.display.Image object>"
      ]
     },
     "execution_count": 11,
     "metadata": {},
     "output_type": "execute_result"
    }
   ],
   "source": [
    "Image(url='./images/val_pcd.gif')"
   ]
  },
  {
   "cell_type": "markdown",
   "metadata": {},
   "source": [
    "### 实验总结\n",
    "1. 用随机初始化，还是用测试样本初始化，最终模型都能收敛到平稳分布，说明之前的rbm训练ok。\n",
    "2. 随着Markov_Chain的转移，模型基本能遍历各个model， 多样性很好。\n",
    "3. 若同样的配置， 把pcd换成cd算法，会失败，模型不能收敛到平稳分布。"
   ]
  },
  {
   "cell_type": "markdown",
   "metadata": {},
   "source": [
    "为什么CD-k算法在这样的配置下确不成功尼，首先看下在这样的配置下，用CD-k算法学出来的图片的几个现象：\n",
    "1. 根据终端打印出来的重构项很低（大概在0.02左右，pcd算法的在0.07左右），这说明马尔科夫链的mix-rate很低。\n",
    "2. 用随机初始化做生成，基本没法采样出数字，全是噪声，说明模型根本没有收敛。用测试数据做初始化，从马尔科夫链上采样的图片基本没啥变化，同样说明其mix-rate很低。\n",
    "\n",
    "在以上分析的基础上，我对模型参数做了几点调整：1）输入加入dropout；2）增加gbbis_step；3）增加max_epoch。"
   ]
  },
  {
   "cell_type": "code",
   "execution_count": 12,
   "metadata": {},
   "outputs": [],
   "source": [
    "brbm_cd = BernoulliRBM(\n",
    "    model_path='./logs/brbm_cd/',\n",
    "    pcd=False,\n",
    "    drop_probs=0.2,\n",
    "    lr_start=2,\n",
    "    sparsity_target=0.1,\n",
    "    lr_stop=28,\n",
    "    n_gibbs_steps=10,\n",
    "    max_epoch=30,\n",
    "    sample_h_states=True,\n",
    "    sample_v_states=True,\n",
    "    batch_size=10,\n",
    "    h_sz=256,\n",
    "    l2=0.001)"
   ]
  },
  {
   "cell_type": "markdown",
   "metadata": {},
   "source": [
    "直接贴结果："
   ]
  },
  {
   "cell_type": "markdown",
   "metadata": {},
   "source": [
    "用随机做h0的初始化的实验结果："
   ]
  },
  {
   "cell_type": "code",
   "execution_count": 13,
   "metadata": {},
   "outputs": [
    {
     "data": {
      "text/html": [
       "<img src=\"./images/sto_cd.gif\"/>"
      ],
      "text/plain": [
       "<IPython.core.display.Image object>"
      ]
     },
     "execution_count": 13,
     "metadata": {},
     "output_type": "execute_result"
    }
   ],
   "source": [
    "Image(url='./images/sto_cd.gif')"
   ]
  },
  {
   "cell_type": "code",
   "execution_count": 14,
   "metadata": {},
   "outputs": [
    {
     "data": {
      "text/html": [
       "<img src=\"./images/val_cd.gif\"/>"
      ],
      "text/plain": [
       "<IPython.core.display.Image object>"
      ]
     },
     "execution_count": 14,
     "metadata": {},
     "output_type": "execute_result"
    }
   ],
   "source": [
    "Image(url='./images/val_cd.gif')"
   ]
  },
  {
   "cell_type": "markdown",
   "metadata": {},
   "source": [
    "用测试样本作为v0的初始化的实验结果："
   ]
  },
  {
   "cell_type": "markdown",
   "metadata": {},
   "source": [
    "*总结：* CD-k算法的mix-rate很慢，上面的3个方式都能帮助模型收敛，但从结果上看效果能没法匹敌pcd算法，最后模型收敛的仍然不好"
   ]
  }
 ],
 "metadata": {
  "kernelspec": {
   "display_name": "Python 3",
   "language": "python",
   "name": "python3"
  },
  "language_info": {
   "codemirror_mode": {
    "name": "ipython",
    "version": 3
   },
   "file_extension": ".py",
   "mimetype": "text/x-python",
   "name": "python",
   "nbconvert_exporter": "python",
   "pygments_lexer": "ipython3",
   "version": "3.6.4"
  }
 },
 "nbformat": 4,
 "nbformat_minor": 2
}
